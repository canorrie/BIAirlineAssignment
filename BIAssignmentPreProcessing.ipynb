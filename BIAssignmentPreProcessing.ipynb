{
 "cells": [
  {
   "cell_type": "code",
   "execution_count": 1,
   "metadata": {},
   "outputs": [],
   "source": [
    "#to do: include markdown cells, write comments to explain why things are being dropped\n",
    "import pandas as pd\n",
    "import numpy as np"
   ]
  },
  {
   "cell_type": "code",
   "execution_count": 1,
   "metadata": {},
   "outputs": [],
   "source": [
    "df1988 = pd.read_csv(\"1988.csv\")"
   ]
  },
  {
   "cell_type": "code",
   "execution_count": null,
   "metadata": {},
   "outputs": [],
   "source": [
    "df1998 = pd.read_csv(\"1998.csv\")"
   ]
  },
  {
   "cell_type": "code",
   "execution_count": null,
   "metadata": {},
   "outputs": [],
   "source": [
    "#descriptions of fields available in the document\n",
    "df1998.head()"
   ]
  },
  {
   "cell_type": "code",
   "execution_count": null,
   "metadata": {},
   "outputs": [],
   "source": [
    "print(len(df1988.index))\n",
    "print(df1988.columns)\n",
    "print(len(df1998.index))\n",
    "print(df1998.columns)"
   ]
  },
  {
   "cell_type": "code",
   "execution_count": 6,
   "metadata": {},
   "outputs": [],
   "source": [
    "#fields to drop: year, flight number, cancellationcode, delay times, because all values are NaN\n",
    "#and year is already assumed\n",
    "df1988 = df1988.drop(['Year','CancellationCode','CarrierDelay','WeatherDelay','NASDelay','SecurityDelay','LateAircraftDelay','TaxiIn','TaxiOut','FlightNum','TailNum'], axis=1)\n",
    "df1998 = df1998.drop(['Year','CancellationCode','CarrierDelay','WeatherDelay','NASDelay','SecurityDelay','LateAircraftDelay','FlightNum','TailNum'], axis=1)"
   ]
  },
  {
   "cell_type": "code",
   "execution_count": 7,
   "metadata": {},
   "outputs": [],
   "source": [
    "df1998.head()"
   ]
  },
  {
   "cell_type": "code",
   "execution_count": 8,
   "metadata": {},
   "outputs": [],
   "source": [
    "def time_to_interval(n):\n",
    "    if (n<300):\n",
    "        return '00:00 to 03:00'\n",
    "    elif (n<600):\n",
    "        return '03:00 to 06:00'\n",
    "    elif (n<900):\n",
    "        return '06:00 to 09:00'\n",
    "    elif (n<1200):\n",
    "        return '09:00 to 12:00'\n",
    "    elif (n<1500):\n",
    "        return '12:00 to 15:00'\n",
    "    elif (n<1800):\n",
    "        return '15:00 to 18:00'\n",
    "    elif (n<2100):\n",
    "        return '18:00 to 21:00'\n",
    "    else:\n",
    "        return '21:00 to 00:00'"
   ]
  },
  {
   "cell_type": "code",
   "execution_count": 9,
   "metadata": {},
   "outputs": [],
   "source": [
    "df1998['DepTimeInterval'] = df1998['CRSDepTime'].apply(time_to_interval)\n",
    "df1988['DepTimeInterval'] = df1988['CRSDepTime'].apply(time_to_interval)\n",
    "df1998['ArrTimeInterval'] = df1998['CRSArrTime'].apply(time_to_interval)\n",
    "df1988['ArrTimeInterval'] = df1988['CRSArrTime'].apply(time_to_interval)"
   ]
  },
  {
   "cell_type": "code",
   "execution_count": 10,
   "metadata": {},
   "outputs": [],
   "source": [
    "def check_weekend(n):\n",
    "    if (n<=5):\n",
    "        return 0\n",
    "    else:\n",
    "        return 1\n",
    "df1998['Weekend'] = df1998['DayOfWeek'].apply(check_weekend)\n",
    "df1988['Weekend'] = df1988['DayOfWeek'].apply(check_weekend)"
   ]
  },
  {
   "cell_type": "code",
   "execution_count": 11,
   "metadata": {},
   "outputs": [],
   "source": [
    "def check_holiday_1988(n):\n",
    "    if ((n==101) or\n",
    "        (n==118) or\n",
    "        (n==215) or\n",
    "        (n==430) or\n",
    "        (n==703) or\n",
    "        (n==905) or\n",
    "        (n==1010) or\n",
    "        (n==1111) or\n",
    "        (n==1124) or\n",
    "        (n==1225) or\n",
    "        (n==1226)):\n",
    "        return 1\n",
    "    else:\n",
    "        return 0    \n",
    "    \n",
    "def check_holiday_1998(n):\n",
    "    if ((n==101) or\n",
    "        (n==119) or\n",
    "        (n==216) or\n",
    "        (n==425) or\n",
    "        (n==703) or\n",
    "        (n==704) or\n",
    "        (n==907) or\n",
    "        (n==1012) or\n",
    "        (n==1111) or\n",
    "        (n==1126) or\n",
    "        (n==1225) or\n",
    "        (n==1226)):\n",
    "        return 1\n",
    "    else:\n",
    "        return 0"
   ]
  },
  {
   "cell_type": "code",
   "execution_count": 12,
   "metadata": {},
   "outputs": [],
   "source": [
    "#i think this is the fastest way to do this in terms of runtime\n",
    "#need to split this because it keeps killing the kernel\n",
    "df1988['Holiday'] = ((df1988['Month']*100)+df1988['DayofMonth']).apply(check_holiday_1988)"
   ]
  },
  {
   "cell_type": "code",
   "execution_count": 13,
   "metadata": {},
   "outputs": [],
   "source": [
    "df1998['Holiday'] = ((df1998['Month']*100)+df1998['DayofMonth']).apply(check_holiday_1998)"
   ]
  },
  {
   "cell_type": "code",
   "execution_count": 14,
   "metadata": {},
   "outputs": [],
   "source": [
    "d_quantiles_1988 = []\n",
    "d_quantiles_1998 = []\n",
    "for i in range(1,6):  \n",
    "    d_quantiles_1988.append(df1988['Distance'].quantile(i*0.2))\n",
    "    d_quantiles_1998.append(df1998['Distance'].quantile(i*0.2))    "
   ]
  },
  {
   "cell_type": "code",
   "execution_count": 15,
   "metadata": {},
   "outputs": [
    {
     "data": {
      "text/plain": [
       "\"    \\ndef check_quantile_1988(n):\\n    if  (n<d_quantiles_1988[0]):\\n        return 'Very short'\\n    elif (n<d_quantiles_1988[1]):\\n        return 'Short'\\n    elif (n<d_quantiles_1988[2]):\\n        return 'Medium'\\n    elif (n<d_quantiles_1988[3]):\\n        return 'Long'\\n    else:\\n        return 'Very long'\\n\""
      ]
     },
     "execution_count": 15,
     "metadata": {},
     "output_type": "execute_result"
    }
   ],
   "source": [
    "def check_quantile_1998(n):\n",
    "    if  (n<d_quantiles_1998[0]):\n",
    "        return 'Very short'\n",
    "    elif (n<d_quantiles_1998[1]):\n",
    "        return 'Short'\n",
    "    elif (n<d_quantiles_1998[2]):\n",
    "        return 'Medium'\n",
    "    elif (n<d_quantiles_1998[3]):\n",
    "        return 'Long'\n",
    "    else:\n",
    "        return 'Very long'\n",
    "\n",
    "    \n",
    "def check_quantile_1988(n):\n",
    "    if  (n<d_quantiles_1988[0]):\n",
    "        return 'Very short'\n",
    "    elif (n<d_quantiles_1988[1]):\n",
    "        return 'Short'\n",
    "    elif (n<d_quantiles_1988[2]):\n",
    "        return 'Medium'\n",
    "    elif (n<d_quantiles_1988[3]):\n",
    "        return 'Long'\n",
    "    else:\n",
    "        return 'Very long'\n"
   ]
  },
  {
   "cell_type": "code",
   "execution_count": 16,
   "metadata": {},
   "outputs": [],
   "source": [
    "df1998['DistInterval'] = df1998['Distance'].apply(check_quantile_1998)\n",
    "df1988['DistInterval'] = df1988['Distance'].apply(check_quantile_1988)"
   ]
  },
  {
   "cell_type": "code",
   "execution_count": 17,
   "metadata": {},
   "outputs": [],
   "source": [
    "airport_vc_1988 = df1988['Origin'].value_counts()+df1988['Dest'].value_counts()\n",
    "airport_vc_1998 = df1998['Origin'].value_counts()+df1998['Dest'].value_counts()\n",
    "\n",
    "s_quantiles_1988 = []\n",
    "s_quantiles_1998 = []\n",
    "for i in range(1,6):  \n",
    "    s_quantiles_1988.append(airport_vc_1988.quantile(i*0.2))\n",
    "    s_quantiles_1998.append(airport_vc_1998.quantile(i*0.2))    "
   ]
  },
  {
   "cell_type": "code",
   "execution_count": 18,
   "metadata": {},
   "outputs": [],
   "source": [
    "def check_quantile_1998_s(n):\n",
    "    if  (n<s_quantiles_1998[0]):\n",
    "        return 'Very small'\n",
    "    elif (n<s_quantiles_1998[1]):\n",
    "        return 'Small'\n",
    "    elif (n<s_quantiles_1998[2]):\n",
    "        return 'Medium'\n",
    "    elif (n<s_quantiles_1998[3]):\n",
    "        return 'Large'\n",
    "    else:\n",
    "        return 'Very large'\n",
    "\n",
    "    \n",
    "def check_quantile_1988_s(n):\n",
    "    if  (n<s_quantiles_1988[0]):\n",
    "        return 'Very small'\n",
    "    elif (n<s_quantiles_1988[1]):\n",
    "        return 'Small'\n",
    "    elif (n<s_quantiles_1988[2]):\n",
    "        return 'Medium'\n",
    "    elif (n<s_quantiles_1988[3]):\n",
    "        return 'Large'\n",
    "    else:\n",
    "        return 'Very large'\n",
    "\n",
    "def AITA_to_vc_1998(aita):\n",
    "    return check_quantile_1998_s(airport_vc_1998[aita])\n",
    "\n",
    "def AITA_to_vc_1988(aita):\n",
    "    return check_quantile_1988_s(airport_vc_1988[aita])"
   ]
  },
  {
   "cell_type": "code",
   "execution_count": 19,
   "metadata": {},
   "outputs": [],
   "source": [
    "df1998['OriginSizeInterval'] = df1998['Origin'].apply(AITA_to_vc_1998)\n"
   ]
  },
  {
   "cell_type": "code",
   "execution_count": 20,
   "metadata": {},
   "outputs": [],
   "source": [
    "df1988['OriginSizeInterval'] = df1988['Origin'].apply(AITA_to_vc_1988)\n"
   ]
  },
  {
   "cell_type": "code",
   "execution_count": 21,
   "metadata": {},
   "outputs": [],
   "source": [
    "df1998['DestSizeInterval'] = df1998['Dest'].apply(AITA_to_vc_1998)\n"
   ]
  },
  {
   "cell_type": "code",
   "execution_count": 22,
   "metadata": {},
   "outputs": [],
   "source": [
    "df1988['DestSizeInterval'] = df1988['Dest'].apply(AITA_to_vc_1988)\n"
   ]
  },
  {
   "cell_type": "code",
   "execution_count": 23,
   "metadata": {},
   "outputs": [],
   "source": [
    "df1988nc = df1988[df1988['Cancelled']==0].drop(['Cancelled'], axis=1)\n",
    "df1988c = df1988[df1988['Cancelled']==1].drop(['Cancelled','DepTime','ActualElapsedTime','ArrDelay','DepDelay'], axis=1)\n",
    "df1998nc = df1998[df1998['Cancelled']==0].drop(['Cancelled'], axis=1)\n",
    "df1998c = df1998[df1998['Cancelled']==1].drop(['Cancelled','DepTime','ActualElapsedTime','ArrDelay','DepDelay'], axis=1)"
   ]
  },
  {
   "cell_type": "code",
   "execution_count": 24,
   "metadata": {},
   "outputs": [],
   "source": [
    "df1988nc.to_csv(r'df1988nc.csv',index=False)\n",
    "df1998nc.to_csv(r'df1998nc.csv',index=False)\n",
    "df1988c.to_csv(r'df1988c.csv',index=False)\n",
    "df1998c.to_csv(r'df1998c.csv',index=False)"
   ]
  },
  {
   "cell_type": "markdown",
   "metadata": {},
   "source": [
    "This setion below is for the corr of arrival and departure delays."
   ]
  },
  {
   "cell_type": "code",
   "execution_count": 25,
   "metadata": {},
   "outputs": [],
   "source": [
    "#df1988.sample(n=1000000, random_state=10000).corr(method='pearson')[['ArrDelay','DepDelay']]"
   ]
  },
  {
   "cell_type": "code",
   "execution_count": 26,
   "metadata": {},
   "outputs": [],
   "source": [
    "#df1988nc.sample(n=1000000, random_state=10000).corr(method='pearson')[['ArrDelay','DepDelay']]"
   ]
  },
  {
   "cell_type": "code",
   "execution_count": 27,
   "metadata": {},
   "outputs": [],
   "source": [
    "#df1998.sample(n=1000000, random_state=10000).corr(method='pearson')[['ArrDelay','DepDelay']]"
   ]
  },
  {
   "cell_type": "code",
   "execution_count": 28,
   "metadata": {},
   "outputs": [],
   "source": [
    "#df1998nc.sample(n=1000000, random_state=10000).corr(method='pearson')[['ArrDelay','DepDelay']]"
   ]
  },
  {
   "cell_type": "code",
   "execution_count": 29,
   "metadata": {},
   "outputs": [],
   "source": [
    "#df1988nc['ArrDelay'].mean()"
   ]
  },
  {
   "cell_type": "code",
   "execution_count": 30,
   "metadata": {},
   "outputs": [],
   "source": [
    "#df1998nc['ArrDelay'].mean()"
   ]
  },
  {
   "cell_type": "code",
   "execution_count": 31,
   "metadata": {},
   "outputs": [],
   "source": [
    "#df1988nc.sample(n=1000000, random_state=10000).groupby('DayOfWeek')['ArrDelay','DepDelay'].mean()"
   ]
  },
  {
   "cell_type": "code",
   "execution_count": 32,
   "metadata": {},
   "outputs": [],
   "source": [
    "#df1998nc.sample(n=1000000, random_state=10000).groupby('DayOfWeek')['ArrDelay','DepDelay'].mean()"
   ]
  },
  {
   "cell_type": "code",
   "execution_count": 33,
   "metadata": {},
   "outputs": [],
   "source": [
    "#df1998nc.sample(n=100000, random_state=1000000).groupby('UniqueCarrier')['ArrDelay','DepDelay'].mean().sort_values(by='ArrDelay', ascending=False)"
   ]
  },
  {
   "cell_type": "code",
   "execution_count": 34,
   "metadata": {},
   "outputs": [],
   "source": [
    "#df1988nc.sample(n=100000, random_state=1000000).groupby('UniqueCarrier')['ArrDelay','DepDelay'].mean().sort_values(by='ArrDelay', ascending=False)"
   ]
  },
  {
   "cell_type": "markdown",
   "metadata": {},
   "source": [
    "This section below is for exploring the dataset - airlines, flight numbers, etc."
   ]
  },
  {
   "cell_type": "code",
   "execution_count": 35,
   "metadata": {},
   "outputs": [],
   "source": [
    "#print(len(df1988nc.index))\n",
    "#print(len(df1988c.index))\n",
    "#print(df1988nc.columns)\n",
    "#print(len(df1998nc.index))\n",
    "#print(len(df1998c.index))\n",
    "#print(df1998nc.columns)"
   ]
  },
  {
   "cell_type": "code",
   "execution_count": 36,
   "metadata": {},
   "outputs": [],
   "source": [
    "#df1998nc.sample(n=1000000, random_state=10000).groupby('Month')[['ArrDelay','DepDelay','ActualElapsedTime']].mean()"
   ]
  },
  {
   "cell_type": "code",
   "execution_count": 37,
   "metadata": {},
   "outputs": [],
   "source": [
    "#df1998nc.sample(n=1000000, random_state=10000).groupby('DayOfWeek')[['ArrDelay','DepDelay','ActualElapsedTime']].mean()"
   ]
  },
  {
   "cell_type": "code",
   "execution_count": 38,
   "metadata": {},
   "outputs": [],
   "source": [
    "#df1988nc.sample(n=1000000, random_state=10000).groupby('Month')[['ArrDelay','DepDelay','ActualElapsedTime']].mean()"
   ]
  },
  {
   "cell_type": "code",
   "execution_count": 39,
   "metadata": {},
   "outputs": [],
   "source": [
    "#df1988nc.sample(n=1000000, random_state=10000).groupby('DayOfWeek')[['ArrDelay','DepDelay','ActualElapsedTime']].mean()"
   ]
  },
  {
   "cell_type": "code",
   "execution_count": 40,
   "metadata": {},
   "outputs": [],
   "source": [
    "#def get_avgs(df_arg, group_by, columns):\n",
    "#    print(df_arg.sample(n=1000000, random_state=10000).groupby(group_by)[columns].mean())"
   ]
  },
  {
   "cell_type": "code",
   "execution_count": 41,
   "metadata": {},
   "outputs": [],
   "source": [
    "#get_avgs(df1998nc, 'DayOfWeek', ['ArrDelay','DepDelay','ActualElapsedTime'])"
   ]
  },
  {
   "cell_type": "code",
   "execution_count": 42,
   "metadata": {},
   "outputs": [],
   "source": [
    "#print(df1988['UniqueCarrier'].value_counts())\n",
    "#print(df1998['UniqueCarrier'].value_counts())"
   ]
  },
  {
   "cell_type": "code",
   "execution_count": 43,
   "metadata": {},
   "outputs": [],
   "source": [
    "#print(df1988['Origin'].value_counts())\n",
    "#print(df1998['Origin'].value_counts())"
   ]
  },
  {
   "cell_type": "code",
   "execution_count": 44,
   "metadata": {},
   "outputs": [],
   "source": [
    "#print(df1988['Dest'].value_counts())\n",
    "#print(df1998['Dest'].value_counts())"
   ]
  },
  {
   "cell_type": "code",
   "execution_count": null,
   "metadata": {},
   "outputs": [],
   "source": []
  },
  {
   "cell_type": "code",
   "execution_count": 45,
   "metadata": {},
   "outputs": [],
   "source": [
    "#df1998['CRSDepTimeInterval'] = df1998['CRSDepTime'].apply(time_to_interval)\n",
    "#df1998['CRSDepTimeInterval']"
   ]
  },
  {
   "cell_type": "code",
   "execution_count": 46,
   "metadata": {},
   "outputs": [],
   "source": [
    "#df1998['CRSDepTimeInterval'].value_counts()"
   ]
  },
  {
   "cell_type": "code",
   "execution_count": 47,
   "metadata": {},
   "outputs": [],
   "source": [
    "#TO DO: Apply the above function to each time parameter, and to both DFs, before preprocessing into the smaller nc/c DFs"
   ]
  }
 ],
 "metadata": {
  "kernelspec": {
   "display_name": "Python 3",
   "language": "python",
   "name": "python3"
  },
  "language_info": {
   "codemirror_mode": {
    "name": "ipython",
    "version": 3
   },
   "file_extension": ".py",
   "mimetype": "text/x-python",
   "name": "python",
   "nbconvert_exporter": "python",
   "pygments_lexer": "ipython3",
   "version": "3.6.9"
  }
 },
 "nbformat": 4,
 "nbformat_minor": 2
}
